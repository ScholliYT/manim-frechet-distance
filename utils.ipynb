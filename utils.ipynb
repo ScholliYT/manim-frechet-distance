{
 "cells": [
  {
   "cell_type": "code",
   "execution_count": 1,
   "metadata": {},
   "outputs": [],
   "source": [
    "import numpy as np"
   ]
  },
  {
   "cell_type": "code",
   "execution_count": 38,
   "metadata": {},
   "outputs": [],
   "source": [
    "p = np.array([[-3.5, 1.5, 0], \n",
    "            [-1.5, 1.5, 0], \n",
    "            [-1.0, 2.5, 0], \n",
    "            [-0.6, 2.5, 0], \n",
    "            [-0.4, 1.6, 0], \n",
    "            [0.5, 2.5, 0], \n",
    "            [1.0, 2.0, 0], \n",
    "            [2.0, 1.5, 0], \n",
    "            [2.6, 1.8, 0],\n",
    "            [2.0, 0.4, 0],\n",
    "            [-3.2, 0.4, 0]])\n",
    "\n",
    "q = np.array([[-3.5, 1.5, 0], \n",
    "            [-3.0, 1.0, 0], \n",
    "            [-1.5, 1.0, 0], \n",
    "            [-0.8, 1.6, 0],\n",
    "            [-0.5, 1.0, 0], \n",
    "            [1.5, 2.0, 0], \n",
    "            [2.0, 2.0, 0], \n",
    "            [2.6, 1.2, 0], \n",
    "            [2.2, 0.2, 0],\n",
    "            [-3.4, 0.2, 0]])"
   ]
  },
  {
   "cell_type": "code",
   "execution_count": 31,
   "metadata": {},
   "outputs": [
    {
     "data": {
      "text/plain": [
       "((11, 3), (10, 3))"
      ]
     },
     "execution_count": 31,
     "metadata": {},
     "output_type": "execute_result"
    }
   ],
   "source": [
    "p.shape, q.shape"
   ]
  },
  {
   "cell_type": "code",
   "execution_count": 32,
   "metadata": {},
   "outputs": [
    {
     "data": {
      "text/plain": [
       "array([[-5.25,  0.25,  0.  ],\n",
       "       [-2.25,  0.25,  0.  ],\n",
       "       [-1.5 ,  1.75,  0.  ],\n",
       "       [-0.9 ,  1.75,  0.  ],\n",
       "       [-0.6 ,  0.4 ,  0.  ],\n",
       "       [ 0.75,  1.75,  0.  ],\n",
       "       [ 1.5 ,  1.  ,  0.  ],\n",
       "       [ 3.  ,  0.25,  0.  ],\n",
       "       [ 3.9 ,  0.7 ,  0.  ],\n",
       "       [ 3.  , -1.4 ,  0.  ],\n",
       "       [-4.8 , -1.4 ,  0.  ]])"
      ]
     },
     "execution_count": 32,
     "metadata": {},
     "output_type": "execute_result"
    }
   ],
   "source": [
    "p*1.5 - np.array([0, 2, 0])"
   ]
  },
  {
   "cell_type": "code",
   "execution_count": 39,
   "metadata": {},
   "outputs": [
    {
     "data": {
      "text/plain": [
       "array([[-5.25,  0.25,  0.  ],\n",
       "       [-4.5 , -0.5 ,  0.  ],\n",
       "       [-2.25, -0.5 ,  0.  ],\n",
       "       [-1.2 ,  0.4 ,  0.  ],\n",
       "       [-0.75, -0.5 ,  0.  ],\n",
       "       [ 2.25,  1.  ,  0.  ],\n",
       "       [ 3.  ,  1.  ,  0.  ],\n",
       "       [ 3.9 , -0.2 ,  0.  ],\n",
       "       [ 3.3 , -1.7 ,  0.  ],\n",
       "       [-5.1 , -1.7 ,  0.  ]])"
      ]
     },
     "execution_count": 39,
     "metadata": {},
     "output_type": "execute_result"
    }
   ],
   "source": [
    "q*1.5 - np.array([0, 2, 0])"
   ]
  }
 ],
 "metadata": {
  "kernelspec": {
   "display_name": "manim-frechet-distance-VSdDISBf-py3.11",
   "language": "python",
   "name": "python3"
  },
  "language_info": {
   "codemirror_mode": {
    "name": "ipython",
    "version": 3
   },
   "file_extension": ".py",
   "mimetype": "text/x-python",
   "name": "python",
   "nbconvert_exporter": "python",
   "pygments_lexer": "ipython3",
   "version": "3.11.1"
  },
  "orig_nbformat": 4,
  "vscode": {
   "interpreter": {
    "hash": "0ae073b76cbecd78060d743f33cf3707b7613ececa990830f43f5010a731cb20"
   }
  }
 },
 "nbformat": 4,
 "nbformat_minor": 2
}
